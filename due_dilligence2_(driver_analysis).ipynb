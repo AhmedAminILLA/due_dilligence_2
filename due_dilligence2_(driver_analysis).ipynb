{
 "cells": [
  {
   "cell_type": "code",
   "execution_count": 1,
   "metadata": {
    "id": "2OA8xouWuaHt"
   },
   "outputs": [],
   "source": [
    "import csv\n",
    "import pandas as pd\n",
    "import numpy as np\n",
    "import math\n",
    "from datetime import datetime as dt, timedelta\n",
    "import matplotlib.pyplot as plt\n",
    "import seaborn as sns\n",
    "%matplotlib inline\n",
    "import warnings\n",
    "warnings.filterwarnings('ignore')\n",
    "pd.options.display.max_columns = None \n",
    "\n",
    "from funcs import driver_status\n"
   ]
  },
  {
   "cell_type": "code",
   "execution_count": 2,
   "metadata": {},
   "outputs": [
    {
     "name": "stdout",
     "output_type": "stream",
     "text": [
      " Volume in drive C has no label.\n",
      " Volume Serial Number is B0D1-7E59\n",
      "\n",
      " Directory of C:\\Users\\hp\\Desktop\\due_dilligence_2\n",
      "\n",
      "11/27/2022  04:14 PM    <DIR>          .\n",
      "11/27/2022  04:14 PM    <DIR>          ..\n",
      "11/27/2022  01:08 PM    <DIR>          .ipynb_checkpoints\n",
      "11/27/2022  03:14 PM         7,763,232 data21.xlsx\n",
      "11/27/2022  03:20 PM        14,439,045 data22.xlsx\n",
      "11/27/2022  03:21 PM         1,524,300 datasep.xlsx\n",
      "11/27/2022  04:14 PM            14,463 due_dilligence2_(driver_analysis).ipynb\n",
      "11/27/2022  04:14 PM             1,481 funcs.py\n",
      "11/27/2022  01:06 PM               734 Read Me.txt\n",
      "11/27/2022  04:15 PM    <DIR>          __pycache__\n",
      "               6 File(s)     23,743,255 bytes\n",
      "               4 Dir(s)  19,714,174,976 bytes free\n"
     ]
    }
   ],
   "source": [
    "!dir"
   ]
  },
  {
   "cell_type": "markdown",
   "metadata": {},
   "source": [
    "I had to break down the data from the question raw data in illa overview to 3 questions using illa overview's filters for 2021,2022 and sep2022 to download the 3 excels and use then merge them here to have all the transactional data in one df "
   ]
  },
  {
   "cell_type": "code",
   "execution_count": 3,
   "metadata": {},
   "outputs": [],
   "source": [
    "df1 = pd.read_excel(\"data21.xlsx\")\n",
    "df2 = pd.read_excel(\"data22.xlsx\")\n",
    "df3 = pd.read_excel(\"datasep.xlsx\")"
   ]
  },
  {
   "cell_type": "code",
   "execution_count": 4,
   "metadata": {},
   "outputs": [],
   "source": [
    "df = pd.concat([df1,df2], axis = 0)\n",
    "df = pd.concat([df,df3], axis = 0)\n",
    "df[\"trip_date\"]= pd.to_datetime(df[\"trip_date\"])\n",
    "df[\"month_year\"] = df[\"trip_date\"].dt.strftime('%m/%Y').astype('datetime64')"
   ]
  },
  {
   "cell_type": "code",
   "execution_count": 5,
   "metadata": {},
   "outputs": [
    {
     "name": "stdout",
     "output_type": "stream",
     "text": [
      "2021-06-01 00:00:00\n",
      "2022-09-30 00:00:00\n"
     ]
    }
   ],
   "source": [
    "print(df[\"trip_date\"].min())\n",
    "print(df[\"trip_date\"].max())"
   ]
  },
  {
   "cell_type": "markdown",
   "metadata": {},
   "source": [
    "##### Slide2 __(active vs new drivers)"
   ]
  },
  {
   "cell_type": "code",
   "execution_count": 19,
   "metadata": {},
   "outputs": [
    {
     "data": {
      "text/html": [
       "<div>\n",
       "<style scoped>\n",
       "    .dataframe tbody tr th:only-of-type {\n",
       "        vertical-align: middle;\n",
       "    }\n",
       "\n",
       "    .dataframe tbody tr th {\n",
       "        vertical-align: top;\n",
       "    }\n",
       "\n",
       "    .dataframe thead th {\n",
       "        text-align: right;\n",
       "    }\n",
       "</style>\n",
       "<table border=\"1\" class=\"dataframe\">\n",
       "  <thead>\n",
       "    <tr style=\"text-align: right;\">\n",
       "      <th></th>\n",
       "      <th>2021-06-01</th>\n",
       "      <th>2021-07-01</th>\n",
       "      <th>2021-08-01</th>\n",
       "      <th>2021-09-01</th>\n",
       "      <th>2021-10-01</th>\n",
       "      <th>2021-11-01</th>\n",
       "      <th>2021-12-01</th>\n",
       "      <th>2022-01-01</th>\n",
       "      <th>2022-02-01</th>\n",
       "      <th>2022-03-01</th>\n",
       "      <th>2022-04-01</th>\n",
       "      <th>2022-05-01</th>\n",
       "      <th>2022-06-01</th>\n",
       "      <th>2022-07-01</th>\n",
       "      <th>2022-08-01</th>\n",
       "      <th>2022-09-01</th>\n",
       "    </tr>\n",
       "  </thead>\n",
       "  <tbody>\n",
       "    <tr>\n",
       "      <th>active</th>\n",
       "      <td>0.0</td>\n",
       "      <td>124</td>\n",
       "      <td>170</td>\n",
       "      <td>182</td>\n",
       "      <td>215</td>\n",
       "      <td>221</td>\n",
       "      <td>216</td>\n",
       "      <td>262</td>\n",
       "      <td>285</td>\n",
       "      <td>293</td>\n",
       "      <td>374</td>\n",
       "      <td>340</td>\n",
       "      <td>342</td>\n",
       "      <td>359</td>\n",
       "      <td>346</td>\n",
       "      <td>297</td>\n",
       "    </tr>\n",
       "    <tr>\n",
       "      <th>inactive</th>\n",
       "      <td>0.0</td>\n",
       "      <td>134</td>\n",
       "      <td>286</td>\n",
       "      <td>440</td>\n",
       "      <td>562</td>\n",
       "      <td>689</td>\n",
       "      <td>914</td>\n",
       "      <td>1127</td>\n",
       "      <td>1298</td>\n",
       "      <td>1446</td>\n",
       "      <td>1714</td>\n",
       "      <td>2018</td>\n",
       "      <td>2242</td>\n",
       "      <td>2509</td>\n",
       "      <td>2749</td>\n",
       "      <td>2952</td>\n",
       "    </tr>\n",
       "    <tr>\n",
       "      <th>new</th>\n",
       "      <td>258.0</td>\n",
       "      <td>198</td>\n",
       "      <td>166</td>\n",
       "      <td>155</td>\n",
       "      <td>133</td>\n",
       "      <td>220</td>\n",
       "      <td>259</td>\n",
       "      <td>194</td>\n",
       "      <td>156</td>\n",
       "      <td>349</td>\n",
       "      <td>270</td>\n",
       "      <td>226</td>\n",
       "      <td>284</td>\n",
       "      <td>227</td>\n",
       "      <td>154</td>\n",
       "      <td>197</td>\n",
       "    </tr>\n",
       "  </tbody>\n",
       "</table>\n",
       "</div>"
      ],
      "text/plain": [
       "          2021-06-01  2021-07-01  2021-08-01  2021-09-01  2021-10-01  \\\n",
       "active           0.0         124         170         182         215   \n",
       "inactive         0.0         134         286         440         562   \n",
       "new            258.0         198         166         155         133   \n",
       "\n",
       "          2021-11-01  2021-12-01  2022-01-01  2022-02-01  2022-03-01  \\\n",
       "active           221         216         262         285         293   \n",
       "inactive         689         914        1127        1298        1446   \n",
       "new              220         259         194         156         349   \n",
       "\n",
       "          2022-04-01  2022-05-01  2022-06-01  2022-07-01  2022-08-01  \\\n",
       "active           374         340         342         359         346   \n",
       "inactive        1714        2018        2242        2509        2749   \n",
       "new              270         226         284         227         154   \n",
       "\n",
       "          2022-09-01  \n",
       "active           297  \n",
       "inactive        2952  \n",
       "new              197  "
      ]
     },
     "execution_count": 19,
     "metadata": {},
     "output_type": "execute_result"
    }
   ],
   "source": [
    "########### We aggregate data according to month year  \n",
    "driver_month_pivot =  df.pivot_table(index=[\"driver_name\"], \n",
    "                                    columns=[\"month_year\"], \n",
    "                                    values=[\"id\"], \n",
    "                                    aggfunc=\"count\", \n",
    "                                    fill_value=0)\n",
    "driver_month_pivot = driver_month_pivot.applymap(lambda x: 1 if x>0 else 0)\n",
    "########## Func driver status is imported from the module funcs in the same direcotry with two arguments\n",
    "########## df and number of months(cols), it just shows the status of each driver everymonth \n",
    "\n",
    "\n",
    "driver_month_pivot= driver_month_pivot.reset_index()\n",
    "cols  = [str(i[1])[:-9] for i in list(driver_month_pivot.columns)]\n",
    "cols.insert(1,\"driver\")\n",
    "cols= cols[1:]\n",
    "driver_month_pivot.columns = cols\n",
    "driver_month_pivot= driver_month_pivot.set_index(\"driver\")\n",
    "driver_month_status = pd.DataFrame(driver_month_pivot.apply(lambda x: pd.Series(driver_status(x,len(driver_month_pivot.columns))), axis=1))\n",
    "\n",
    "driver_month_status.columns = driver_month_pivot.columns\n",
    "\n",
    "driver_month_status\n",
    "month_status_pivot = pd.DataFrame(driver_month_status.replace(\"unreg\", np.NaN).apply(lambda x: pd.value_counts(x)))\n",
    "month_status_pivot = month_status_pivot.fillna(0)\n",
    "month_status_pivot "
   ]
  },
  {
   "cell_type": "code",
   "execution_count": null,
   "metadata": {},
   "outputs": [],
   "source": []
  }
 ],
 "metadata": {
  "colab": {
   "provenance": []
  },
  "kernelspec": {
   "display_name": "Python 3 (ipykernel)",
   "language": "python",
   "name": "python3"
  },
  "language_info": {
   "codemirror_mode": {
    "name": "ipython",
    "version": 3
   },
   "file_extension": ".py",
   "mimetype": "text/x-python",
   "name": "python",
   "nbconvert_exporter": "python",
   "pygments_lexer": "ipython3",
   "version": "3.9.12"
  }
 },
 "nbformat": 4,
 "nbformat_minor": 1
}
