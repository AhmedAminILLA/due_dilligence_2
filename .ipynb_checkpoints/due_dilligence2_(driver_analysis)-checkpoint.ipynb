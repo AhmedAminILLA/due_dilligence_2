{
 "cells": [
  {
   "cell_type": "code",
   "execution_count": 1,
   "metadata": {
    "id": "2OA8xouWuaHt"
   },
   "outputs": [],
   "source": [
    "import csv\n",
    "import pandas as pd\n",
    "import numpy as np\n",
    "import math\n",
    "from datetime import datetime as dt, timedelta\n",
    "import matplotlib.pyplot as plt\n",
    "import seaborn as sns\n",
    "%matplotlib inline\n",
    "import warnings\n",
    "warnings.filterwarnings('ignore')\n",
    "pd.options.display.max_columns = None \n",
    "\n",
    "from funcs import driver_status\n"
   ]
  },
  {
   "cell_type": "code",
   "execution_count": 2,
   "metadata": {},
   "outputs": [
    {
     "name": "stdout",
     "output_type": "stream",
     "text": [
      " Volume in drive C has no label.\n",
      " Volume Serial Number is B0D1-7E59\n",
      "\n",
      " Directory of C:\\Users\\hp\\Desktop\\due_dilligence_2\n",
      "\n",
      "11/27/2022  04:14 PM    <DIR>          .\n",
      "11/27/2022  04:14 PM    <DIR>          ..\n",
      "11/27/2022  01:08 PM    <DIR>          .ipynb_checkpoints\n",
      "11/27/2022  03:14 PM         7,763,232 data21.xlsx\n",
      "11/27/2022  03:20 PM        14,439,045 data22.xlsx\n",
      "11/27/2022  03:21 PM         1,524,300 datasep.xlsx\n",
      "11/27/2022  04:14 PM            14,463 due_dilligence2_(driver_analysis).ipynb\n",
      "11/27/2022  04:14 PM             1,481 funcs.py\n",
      "11/27/2022  01:06 PM               734 Read Me.txt\n",
      "11/27/2022  04:15 PM    <DIR>          __pycache__\n",
      "               6 File(s)     23,743,255 bytes\n",
      "               4 Dir(s)  19,714,174,976 bytes free\n"
     ]
    }
   ],
   "source": [
    "!dir"
   ]
  },
  {
   "cell_type": "markdown",
   "metadata": {},
   "source": [
    "I had to break down the data from the question raw data in illa overview to 3 questions using illa overview's filters for 2021,2022 and sep2022 to download the 3 excels and use then merge them here to have all the transactional data in one df "
   ]
  },
  {
   "cell_type": "code",
   "execution_count": 3,
   "metadata": {},
   "outputs": [],
   "source": [
    "df1 = pd.read_excel(\"data21.xlsx\")\n",
    "df2 = pd.read_excel(\"data22.xlsx\")\n",
    "df3 = pd.read_excel(\"datasep.xlsx\")"
   ]
  },
  {
   "cell_type": "code",
   "execution_count": 37,
   "metadata": {},
   "outputs": [],
   "source": [
    "df_dstatus = pd.read_excel(\"driver_status.xlsx\")"
   ]
  },
  {
   "cell_type": "code",
   "execution_count": 23,
   "metadata": {},
   "outputs": [
    {
     "data": {
      "text/plain": [
       "array(['Completed', 'Unfulfilled', 'Not_loaded', 'Not_requested',\n",
       "       'Absent', 'Cancelled By C', 'Out for Delivery'], dtype=object)"
      ]
     },
     "execution_count": 23,
     "metadata": {},
     "output_type": "execute_result"
    }
   ],
   "source": [
    "df[\"trips_status\"].unique()"
   ]
  },
  {
   "cell_type": "code",
   "execution_count": 25,
   "metadata": {},
   "outputs": [],
   "source": [
    "df = pd.concat([df1,df2], axis = 0)\n",
    "df = pd.concat([df,df3], axis = 0)\n",
    "df[\"trip_date\"]= pd.to_datetime(df[\"trip_date\"])\n",
    "df[\"month_year\"] = df[\"trip_date\"].dt.strftime('%m/%Y').astype('datetime64')\n",
    "df= df[df[\"trips_status\"].isin([\"Completed\", \"Not_loaded\",\"Not_requested\"])]"
   ]
  },
  {
   "cell_type": "code",
   "execution_count": 26,
   "metadata": {},
   "outputs": [
    {
     "name": "stdout",
     "output_type": "stream",
     "text": [
      "2021-06-01 00:00:00\n",
      "2022-09-30 00:00:00\n"
     ]
    }
   ],
   "source": [
    "print(df[\"trip_date\"].min())\n",
    "print(df[\"trip_date\"].max())"
   ]
  },
  {
   "cell_type": "markdown",
   "metadata": {},
   "source": [
    "##### Slide2 __(active vs new drivers) (5 in pres)"
   ]
  },
  {
   "cell_type": "code",
   "execution_count": 28,
   "metadata": {},
   "outputs": [
    {
     "data": {
      "text/html": [
       "<div>\n",
       "<style scoped>\n",
       "    .dataframe tbody tr th:only-of-type {\n",
       "        vertical-align: middle;\n",
       "    }\n",
       "\n",
       "    .dataframe tbody tr th {\n",
       "        vertical-align: top;\n",
       "    }\n",
       "\n",
       "    .dataframe thead th {\n",
       "        text-align: right;\n",
       "    }\n",
       "</style>\n",
       "<table border=\"1\" class=\"dataframe\">\n",
       "  <thead>\n",
       "    <tr style=\"text-align: right;\">\n",
       "      <th></th>\n",
       "      <th>2021-06-01</th>\n",
       "      <th>2021-07-01</th>\n",
       "      <th>2021-08-01</th>\n",
       "      <th>2021-09-01</th>\n",
       "      <th>2021-10-01</th>\n",
       "      <th>2021-11-01</th>\n",
       "      <th>2021-12-01</th>\n",
       "      <th>2022-01-01</th>\n",
       "      <th>2022-02-01</th>\n",
       "      <th>2022-03-01</th>\n",
       "      <th>2022-04-01</th>\n",
       "      <th>2022-05-01</th>\n",
       "      <th>2022-06-01</th>\n",
       "      <th>2022-07-01</th>\n",
       "      <th>2022-08-01</th>\n",
       "      <th>2022-09-01</th>\n",
       "    </tr>\n",
       "  </thead>\n",
       "  <tbody>\n",
       "    <tr>\n",
       "      <th>active</th>\n",
       "      <td>0.0</td>\n",
       "      <td>123</td>\n",
       "      <td>170</td>\n",
       "      <td>181</td>\n",
       "      <td>213</td>\n",
       "      <td>221</td>\n",
       "      <td>215</td>\n",
       "      <td>261</td>\n",
       "      <td>283</td>\n",
       "      <td>285</td>\n",
       "      <td>370</td>\n",
       "      <td>334</td>\n",
       "      <td>338</td>\n",
       "      <td>347</td>\n",
       "      <td>342</td>\n",
       "      <td>293</td>\n",
       "    </tr>\n",
       "    <tr>\n",
       "      <th>inactive</th>\n",
       "      <td>0.0</td>\n",
       "      <td>134</td>\n",
       "      <td>285</td>\n",
       "      <td>438</td>\n",
       "      <td>561</td>\n",
       "      <td>686</td>\n",
       "      <td>909</td>\n",
       "      <td>1118</td>\n",
       "      <td>1290</td>\n",
       "      <td>1443</td>\n",
       "      <td>1707</td>\n",
       "      <td>2010</td>\n",
       "      <td>2230</td>\n",
       "      <td>2505</td>\n",
       "      <td>2736</td>\n",
       "      <td>2940</td>\n",
       "    </tr>\n",
       "    <tr>\n",
       "      <th>new</th>\n",
       "      <td>257.0</td>\n",
       "      <td>198</td>\n",
       "      <td>164</td>\n",
       "      <td>155</td>\n",
       "      <td>133</td>\n",
       "      <td>217</td>\n",
       "      <td>255</td>\n",
       "      <td>194</td>\n",
       "      <td>155</td>\n",
       "      <td>349</td>\n",
       "      <td>267</td>\n",
       "      <td>224</td>\n",
       "      <td>284</td>\n",
       "      <td>226</td>\n",
       "      <td>155</td>\n",
       "      <td>197</td>\n",
       "    </tr>\n",
       "  </tbody>\n",
       "</table>\n",
       "</div>"
      ],
      "text/plain": [
       "          2021-06-01  2021-07-01  2021-08-01  2021-09-01  2021-10-01  \\\n",
       "active           0.0         123         170         181         213   \n",
       "inactive         0.0         134         285         438         561   \n",
       "new            257.0         198         164         155         133   \n",
       "\n",
       "          2021-11-01  2021-12-01  2022-01-01  2022-02-01  2022-03-01  \\\n",
       "active           221         215         261         283         285   \n",
       "inactive         686         909        1118        1290        1443   \n",
       "new              217         255         194         155         349   \n",
       "\n",
       "          2022-04-01  2022-05-01  2022-06-01  2022-07-01  2022-08-01  \\\n",
       "active           370         334         338         347         342   \n",
       "inactive        1707        2010        2230        2505        2736   \n",
       "new              267         224         284         226         155   \n",
       "\n",
       "          2022-09-01  \n",
       "active           293  \n",
       "inactive        2940  \n",
       "new              197  "
      ]
     },
     "execution_count": 28,
     "metadata": {},
     "output_type": "execute_result"
    }
   ],
   "source": [
    "########### We aggregate data according to month year  \n",
    "driver_month_pivot =  df.pivot_table(index=[\"driver_name\"], \n",
    "                                    columns=[\"month_year\"], \n",
    "                                    values=[\"id\"], \n",
    "                                    aggfunc=\"count\", \n",
    "                                    fill_value=0)\n",
    "driver_month_pivot = driver_month_pivot.applymap(lambda x: 1 if x>0 else 0)\n",
    "########## Func driver status is imported from the module funcs in the same direcotry with two arguments\n",
    "########## df and number of months(cols), it just shows the status of each driver everymonth \n",
    "\n",
    "\n",
    "driver_month_pivot= driver_month_pivot.reset_index()\n",
    "cols  = [str(i[1])[:-9] for i in list(driver_month_pivot.columns)]\n",
    "cols.insert(1,\"driver\")\n",
    "cols= cols[1:]\n",
    "driver_month_pivot.columns = cols\n",
    "driver_month_pivot= driver_month_pivot.set_index(\"driver\")\n",
    "driver_month_status = pd.DataFrame(driver_month_pivot.apply(lambda x: pd.Series(driver_status(x,len(driver_month_pivot.columns))), axis=1))\n",
    "\n",
    "driver_month_status.columns = driver_month_pivot.columns\n",
    "\n",
    "driver_month_status\n",
    "month_status_pivot = pd.DataFrame(driver_month_status.replace(\"unreg\", np.NaN).apply(lambda x: pd.value_counts(x)))\n",
    "month_status_pivot = month_status_pivot.fillna(0)\n",
    "month_status_pivot "
   ]
  },
  {
   "cell_type": "markdown",
   "metadata": {},
   "source": [
    "##### Slide3 __(driver count vs trips count) (6 in pres)"
   ]
  },
  {
   "cell_type": "code",
   "execution_count": 34,
   "metadata": {},
   "outputs": [
    {
     "data": {
      "text/html": [
       "<div>\n",
       "<style scoped>\n",
       "    .dataframe tbody tr th:only-of-type {\n",
       "        vertical-align: middle;\n",
       "    }\n",
       "\n",
       "    .dataframe tbody tr th {\n",
       "        vertical-align: top;\n",
       "    }\n",
       "\n",
       "    .dataframe thead th {\n",
       "        text-align: right;\n",
       "    }\n",
       "</style>\n",
       "<table border=\"1\" class=\"dataframe\">\n",
       "  <thead>\n",
       "    <tr style=\"text-align: right;\">\n",
       "      <th></th>\n",
       "      <th>2021-06-01</th>\n",
       "      <th>2021-07-01</th>\n",
       "      <th>2021-08-01</th>\n",
       "      <th>2021-09-01</th>\n",
       "      <th>2021-10-01</th>\n",
       "      <th>2021-11-01</th>\n",
       "      <th>2021-12-01</th>\n",
       "      <th>2022-01-01</th>\n",
       "      <th>2022-02-01</th>\n",
       "      <th>2022-03-01</th>\n",
       "      <th>2022-04-01</th>\n",
       "      <th>2022-05-01</th>\n",
       "      <th>2022-06-01</th>\n",
       "      <th>2022-07-01</th>\n",
       "      <th>2022-08-01</th>\n",
       "      <th>2022-09-01</th>\n",
       "    </tr>\n",
       "  </thead>\n",
       "  <tbody>\n",
       "    <tr>\n",
       "      <th>driver_count</th>\n",
       "      <td>257</td>\n",
       "      <td>321</td>\n",
       "      <td>334</td>\n",
       "      <td>336</td>\n",
       "      <td>346</td>\n",
       "      <td>438</td>\n",
       "      <td>470</td>\n",
       "      <td>455</td>\n",
       "      <td>438</td>\n",
       "      <td>634</td>\n",
       "      <td>637</td>\n",
       "      <td>558</td>\n",
       "      <td>622</td>\n",
       "      <td>573</td>\n",
       "      <td>497</td>\n",
       "      <td>490</td>\n",
       "    </tr>\n",
       "    <tr>\n",
       "      <th>trips_count</th>\n",
       "      <td>2070</td>\n",
       "      <td>3188</td>\n",
       "      <td>4178</td>\n",
       "      <td>5218</td>\n",
       "      <td>4999</td>\n",
       "      <td>4575</td>\n",
       "      <td>4749</td>\n",
       "      <td>5083</td>\n",
       "      <td>5249</td>\n",
       "      <td>6482</td>\n",
       "      <td>7302</td>\n",
       "      <td>8071</td>\n",
       "      <td>6839</td>\n",
       "      <td>6829</td>\n",
       "      <td>7460</td>\n",
       "      <td>5722</td>\n",
       "    </tr>\n",
       "  </tbody>\n",
       "</table>\n",
       "</div>"
      ],
      "text/plain": [
       "             2021-06-01 2021-07-01 2021-08-01 2021-09-01 2021-10-01  \\\n",
       "driver_count        257        321        334        336        346   \n",
       "trips_count        2070       3188       4178       5218       4999   \n",
       "\n",
       "             2021-11-01 2021-12-01 2022-01-01 2022-02-01 2022-03-01  \\\n",
       "driver_count        438        470        455        438        634   \n",
       "trips_count        4575       4749       5083       5249       6482   \n",
       "\n",
       "             2022-04-01 2022-05-01 2022-06-01 2022-07-01 2022-08-01 2022-09-01  \n",
       "driver_count        637        558        622        573        497        490  \n",
       "trips_count        7302       8071       6839       6829       7460       5722  "
      ]
     },
     "execution_count": 34,
     "metadata": {},
     "output_type": "execute_result"
    }
   ],
   "source": [
    "slide_1 = df.groupby(['month_year','driver_name']).count().groupby(['month_year']).count().reset_index().iloc[:,[0,1]].rename(columns={\"id\":\"driver_count\"}).merge(\n",
    "df.groupby(['month_year','driver_name']).count().groupby([\"month_year\"]).sum().reset_index().iloc[:,[0,1]].rename(columns={\"id\":\"trips_count\"}), on = \"month_year\",how =\"left\").transpose()\n",
    "\n",
    "# slide_1.columns = [\"jun21\", \"jul21\",\"aug21\",\"sep21\",\"oct21\",\"nov21\",\"dec21\",\"jan22\",\"feb22\",\"mar22\",\"apr22\"]\n",
    "###################### cols from slide 1 \n",
    "slide_1.columns = cols[1:]\n",
    "slide_1 = slide_1.drop(slide_1.index[[0]],axis= 0)\n",
    "slide_1"
   ]
  },
  {
   "cell_type": "code",
   "execution_count": 38,
   "metadata": {},
   "outputs": [
    {
     "ename": "KeyError",
     "evalue": "\"None of [Index(['driver_name', 'driver_class'], dtype='object')] are in the [columns]\"",
     "output_type": "error",
     "traceback": [
      "\u001b[1;31m---------------------------------------------------------------------------\u001b[0m",
      "\u001b[1;31mKeyError\u001b[0m                                  Traceback (most recent call last)",
      "Input \u001b[1;32mIn [38]\u001b[0m, in \u001b[0;36m<cell line: 1>\u001b[1;34m()\u001b[0m\n\u001b[1;32m----> 1\u001b[0m df_combo \u001b[38;5;241m=\u001b[39m df\u001b[38;5;241m.\u001b[39mmerge(\u001b[43mdf_dstatus\u001b[49m\u001b[43m[\u001b[49m\u001b[43m[\u001b[49m\u001b[38;5;124;43m\"\u001b[39;49m\u001b[38;5;124;43mdriver_name\u001b[39;49m\u001b[38;5;124;43m\"\u001b[39;49m\u001b[43m,\u001b[49m\u001b[38;5;124;43m\"\u001b[39;49m\u001b[38;5;124;43mdriver_class\u001b[39;49m\u001b[38;5;124;43m\"\u001b[39;49m\u001b[43m]\u001b[49m\u001b[43m]\u001b[49m, on \u001b[38;5;241m=\u001b[39m\u001b[38;5;124m\"\u001b[39m\u001b[38;5;124mdriver_name\u001b[39m\u001b[38;5;124m\"\u001b[39m)\n\u001b[0;32m      2\u001b[0m df_combo\n",
      "File \u001b[1;32m~\\anaconda3\\lib\\site-packages\\pandas\\core\\frame.py:3511\u001b[0m, in \u001b[0;36mDataFrame.__getitem__\u001b[1;34m(self, key)\u001b[0m\n\u001b[0;32m   3509\u001b[0m     \u001b[38;5;28;01mif\u001b[39;00m is_iterator(key):\n\u001b[0;32m   3510\u001b[0m         key \u001b[38;5;241m=\u001b[39m \u001b[38;5;28mlist\u001b[39m(key)\n\u001b[1;32m-> 3511\u001b[0m     indexer \u001b[38;5;241m=\u001b[39m \u001b[38;5;28;43mself\u001b[39;49m\u001b[38;5;241;43m.\u001b[39;49m\u001b[43mcolumns\u001b[49m\u001b[38;5;241;43m.\u001b[39;49m\u001b[43m_get_indexer_strict\u001b[49m\u001b[43m(\u001b[49m\u001b[43mkey\u001b[49m\u001b[43m,\u001b[49m\u001b[43m \u001b[49m\u001b[38;5;124;43m\"\u001b[39;49m\u001b[38;5;124;43mcolumns\u001b[39;49m\u001b[38;5;124;43m\"\u001b[39;49m\u001b[43m)\u001b[49m[\u001b[38;5;241m1\u001b[39m]\n\u001b[0;32m   3513\u001b[0m \u001b[38;5;66;03m# take() does not accept boolean indexers\u001b[39;00m\n\u001b[0;32m   3514\u001b[0m \u001b[38;5;28;01mif\u001b[39;00m \u001b[38;5;28mgetattr\u001b[39m(indexer, \u001b[38;5;124m\"\u001b[39m\u001b[38;5;124mdtype\u001b[39m\u001b[38;5;124m\"\u001b[39m, \u001b[38;5;28;01mNone\u001b[39;00m) \u001b[38;5;241m==\u001b[39m \u001b[38;5;28mbool\u001b[39m:\n",
      "File \u001b[1;32m~\\anaconda3\\lib\\site-packages\\pandas\\core\\indexes\\base.py:5782\u001b[0m, in \u001b[0;36mIndex._get_indexer_strict\u001b[1;34m(self, key, axis_name)\u001b[0m\n\u001b[0;32m   5779\u001b[0m \u001b[38;5;28;01melse\u001b[39;00m:\n\u001b[0;32m   5780\u001b[0m     keyarr, indexer, new_indexer \u001b[38;5;241m=\u001b[39m \u001b[38;5;28mself\u001b[39m\u001b[38;5;241m.\u001b[39m_reindex_non_unique(keyarr)\n\u001b[1;32m-> 5782\u001b[0m \u001b[38;5;28;43mself\u001b[39;49m\u001b[38;5;241;43m.\u001b[39;49m\u001b[43m_raise_if_missing\u001b[49m\u001b[43m(\u001b[49m\u001b[43mkeyarr\u001b[49m\u001b[43m,\u001b[49m\u001b[43m \u001b[49m\u001b[43mindexer\u001b[49m\u001b[43m,\u001b[49m\u001b[43m \u001b[49m\u001b[43maxis_name\u001b[49m\u001b[43m)\u001b[49m\n\u001b[0;32m   5784\u001b[0m keyarr \u001b[38;5;241m=\u001b[39m \u001b[38;5;28mself\u001b[39m\u001b[38;5;241m.\u001b[39mtake(indexer)\n\u001b[0;32m   5785\u001b[0m \u001b[38;5;28;01mif\u001b[39;00m \u001b[38;5;28misinstance\u001b[39m(key, Index):\n\u001b[0;32m   5786\u001b[0m     \u001b[38;5;66;03m# GH 42790 - Preserve name from an Index\u001b[39;00m\n",
      "File \u001b[1;32m~\\anaconda3\\lib\\site-packages\\pandas\\core\\indexes\\base.py:5842\u001b[0m, in \u001b[0;36mIndex._raise_if_missing\u001b[1;34m(self, key, indexer, axis_name)\u001b[0m\n\u001b[0;32m   5840\u001b[0m     \u001b[38;5;28;01mif\u001b[39;00m use_interval_msg:\n\u001b[0;32m   5841\u001b[0m         key \u001b[38;5;241m=\u001b[39m \u001b[38;5;28mlist\u001b[39m(key)\n\u001b[1;32m-> 5842\u001b[0m     \u001b[38;5;28;01mraise\u001b[39;00m \u001b[38;5;167;01mKeyError\u001b[39;00m(\u001b[38;5;124mf\u001b[39m\u001b[38;5;124m\"\u001b[39m\u001b[38;5;124mNone of [\u001b[39m\u001b[38;5;132;01m{\u001b[39;00mkey\u001b[38;5;132;01m}\u001b[39;00m\u001b[38;5;124m] are in the [\u001b[39m\u001b[38;5;132;01m{\u001b[39;00maxis_name\u001b[38;5;132;01m}\u001b[39;00m\u001b[38;5;124m]\u001b[39m\u001b[38;5;124m\"\u001b[39m)\n\u001b[0;32m   5844\u001b[0m not_found \u001b[38;5;241m=\u001b[39m \u001b[38;5;28mlist\u001b[39m(ensure_index(key)[missing_mask\u001b[38;5;241m.\u001b[39mnonzero()[\u001b[38;5;241m0\u001b[39m]]\u001b[38;5;241m.\u001b[39munique())\n\u001b[0;32m   5845\u001b[0m \u001b[38;5;28;01mraise\u001b[39;00m \u001b[38;5;167;01mKeyError\u001b[39;00m(\u001b[38;5;124mf\u001b[39m\u001b[38;5;124m\"\u001b[39m\u001b[38;5;132;01m{\u001b[39;00mnot_found\u001b[38;5;132;01m}\u001b[39;00m\u001b[38;5;124m not in index\u001b[39m\u001b[38;5;124m\"\u001b[39m)\n",
      "\u001b[1;31mKeyError\u001b[0m: \"None of [Index(['driver_name', 'driver_class'], dtype='object')] are in the [columns]\""
     ]
    }
   ],
   "source": [
    "df_combo = df.merge(df_dstatus[[\"driver_name\",\"driver_class\"]], on =\"driver_name\")\n",
    "df_combo"
   ]
  },
  {
   "cell_type": "code",
   "execution_count": null,
   "metadata": {},
   "outputs": [],
   "source": []
  }
 ],
 "metadata": {
  "colab": {
   "provenance": []
  },
  "kernelspec": {
   "display_name": "Python 3 (ipykernel)",
   "language": "python",
   "name": "python3"
  },
  "language_info": {
   "codemirror_mode": {
    "name": "ipython",
    "version": 3
   },
   "file_extension": ".py",
   "mimetype": "text/x-python",
   "name": "python",
   "nbconvert_exporter": "python",
   "pygments_lexer": "ipython3",
   "version": "3.9.12"
  }
 },
 "nbformat": 4,
 "nbformat_minor": 1
}
